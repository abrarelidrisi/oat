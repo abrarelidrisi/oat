{
 "cells": [
  {
   "cell_type": "code",
   "execution_count": null,
   "metadata": {},
   "outputs": [
    {
     "name": "stderr",
     "output_type": "stream",
     "text": [
      "/home/rumbidzai_aims_ac_za/asim/.oat/lib/python3.10/site-packages/tqdm/auto.py:21: TqdmWarning: IProgress not found. Please update jupyter and ipywidgets. See https://ipywidgets.readthedocs.io/en/stable/user_install.html\n",
      "  from .autonotebook import tqdm as notebook_tqdm\n"
     ]
    },
    {
     "name": "stdout",
     "output_type": "stream",
     "text": [
      "[2025-07-10 00:40:54,322] [INFO] [real_accelerator.py:239:get_accelerator] Setting ds_accelerator to cuda (auto detect)\n"
     ]
    },
    {
     "name": "stderr",
     "output_type": "stream",
     "text": [
      "/usr/bin/ld: cannot find -laio: No such file or directory\n",
      "collect2: error: ld returned 1 exit status\n",
      "/usr/bin/ld: cannot find -laio: No such file or directory\n",
      "collect2: error: ld returned 1 exit status\n",
      "2025-07-10 00:40:58.955896: W tensorflow/stream_executor/platform/default/dso_loader.cc:64] Could not load dynamic library 'libcudart.so.11.0'; dlerror: libcudart.so.11.0: cannot open shared object file: No such file or directory; LD_LIBRARY_PATH: /usr/local/cuda-12.4/lib64:\n",
      "2025-07-10 00:40:58.955926: I tensorflow/stream_executor/cuda/cudart_stub.cc:29] Ignore above cudart dlerror if you do not have a GPU set up on your machine.\n"
     ]
    },
    {
     "name": "stdout",
     "output_type": "stream",
     "text": [
      "INFO 07-10 00:41:00 [__init__.py:239] Automatically detected platform cuda.\n"
     ]
    },
    {
     "name": "stderr",
     "output_type": "stream",
     "text": [
      "2025-07-10 00:41:02,037\tINFO util.py:154 -- Missing packages: ['ipywidgets']. Run `pip install -U ipywidgets`, then restart the notebook server for rich notebook output.\n"
     ]
    },
    {
     "name": "stdout",
     "output_type": "stream",
     "text": [
      "--- OAT Core Dependencies Check ---\n",
      "PyTorch version: 2.6.0+cu124\n",
      "Transformers version: 4.51.3\n",
      "DeepSpeed version: 0.16.8\n",
      "vLLM version: 0.8.4\n",
      "Launchpad version: Not found (this is expected and okay).\n",
      "\n",
      "✅ SUCCESS: Your environment is correctly set up!\n"
     ]
    }
   ],
   "source": [
    "try:\n",
    "    import torch\n",
    "    import transformers\n",
    "    import deepspeed\n",
    "    import vllm\n",
    "    import launchpad as lp\n",
    "\n",
    "    print(\"--- OAT Core Dependencies Check ---\")\n",
    "    print(f\"PyTorch version: {torch.__version__}\")\n",
    "    print(f\"Transformers version: {transformers.__version__}\")\n",
    "    print(f\"DeepSpeed version: {deepspeed.__version__}\")\n",
    "    print(f\"vLLM version: {vllm.__version__}\")\n",
    "\n",
    "    try:\n",
    "        # Try to print the version, but don't fail if it's not there\n",
    "        print(f\"Launchpad version: {lp.__version__}\")\n",
    "    except AttributeError:\n",
    "        print(\"Launchpad version: Not found (this is expected and okay).\")\n",
    "\n",
    "    print(f\" Your environment is correctly set up!\")\n",
    "\n",
    "except ImportError as e:\n",
    "    print(f\"\\n❌ FAILED: A library is missing or could not be loaded.\")\n",
    "    print(f\"Error details: {e}\")\n",
    "    print(\"\\nThere may be an issue with the installation or system dependencies.\")"
   ]
  },
  {
   "cell_type": "code",
   "execution_count": 25,
   "id": "49959e8e",
   "metadata": {},
   "outputs": [],
   "source": [
    "import os\n",
    "import json\n",
    "import dotenv\n",
    "import logging\n",
    "import google.generativeai as genai\n",
    "from oat.oracles.base import RewardOracleBase"
   ]
  },
  {
   "cell_type": "code",
   "execution_count": 28,
   "id": "3883181d",
   "metadata": {},
   "outputs": [
    {
     "name": "stdout",
     "output_type": "stream",
     "text": [
      "Why did the farmer bring a ladder to the party?  Because he heard the drinks were on the house!\n",
      "\n"
     ]
    }
   ],
   "source": [
    "dotenv.load_dotenv()\n",
    "genai.configure(api_key=os.getenv(\"GEMINI_API_KEY\"))\n",
    "\n",
    "model = genai.GenerativeModel(\"gemini-1.5-flash-latest\")\n",
    "\n",
    "# response = model.generate_content(\"Find the derivative of f(x) = x^2 * sin(x). Think step by step.\")\n",
    "response = model.generate_content(\"tell me a jokes for a farmer\")\n",
    "print(response.text)"
   ]
  },
  {
   "cell_type": "code",
   "execution_count": 24,
   "id": "5f4827d5",
   "metadata": {},
   "outputs": [
    {
     "data": {
      "text/plain": [
       ""
      ]
     },
     "execution_count": 24,
     "metadata": {},
     "output_type": "execute_result"
    }
   ],
   "source": [
    "os.getenv(\"GEMINI_API_KEY\")"
   ]
  },
  {
   "cell_type": "code",
   "execution_count": 22,
   "id": "01fc9de6",
   "metadata": {},
   "outputs": [],
   "source": [
    "class CALOracle:\n",
    "    def __init__(self, cal_model_name: str, few_shot_path: str, api_key_env: str = \"GEMINI_API_KEY\"):\n",
    "        self.cal_model_name = cal_model_name\n",
    "        self.few_shot_path = few_shot_path\n",
    "        api_key = os.getenv(api_key_env)\n",
    "        if not api_key: raise ValueError(f\"'{api_key_env}' not set. Please export your GOOGLE_API_KEY.\")\n",
    "        genai.configure(api_key=api_key)\n",
    "        \n",
    "        generation_config = {\"temperature\": 0.0, \"max_output_tokens\": 150}\n",
    "        safety_settings = [{\"category\": c, \"threshold\": \"BLOCK_NONE\"} for c in [\"HARM_CATEGORY_HARASSMENT\", \"HARM_CATEGORY_HATE_SPEECH\", \"HARM_CATEGORY_SEXUALLY_EXPLICIT\", \"HARM_CATEGORY_DANGEROUS_CONTENT\"]]\n",
    "        self.safety_settings = [\n",
    "            {\"category\": \"HARM_CATEGORY_HARASSMENT\", \"threshold\": \"BLOCK_NONE\"},\n",
    "            {\"category\": \"HARM_CATEGORY_HATE_SPEECH\", \"threshold\": \"BLOCK_NONE\"},\n",
    "            {\"category\": \"HARM_CATEGORY_SEXUALLY_EXPLICIT\", \"threshold\": \"BLOCK_NONE\"},\n",
    "            {\"category\": \"HARM_CATEGORY_DANGEROUS_CONTENT\", \"threshold\": \"BLOCK_NONE\"},\n",
    "        ]\n",
    "        self.model = genai.GenerativeModel(model_name=cal_model_name, generation_config=generation_config, safety_settings=safety_settings)\n",
    "        \n",
    "        with open(few_shot_path, 'r') as f: self.few_shot_examples = json.load(f)\n",
    "        logging.info(f\"CAL Oracle: Initialized with Gemini model '{cal_model_name}'.\")\n",
    "        \n",
    "    def _build_full_prompt(self, question: str, correct_solution: str, incorrect_solution: str) -> str:\n",
    "        \"\"\"Builds the full few-shot prompt for the Gemini API call.\"\"\"\n",
    "        prompt_parts = [\n",
    "            \"You are a meticulous logic checker and math tutor. Your task is to compare a flawed student solution to a correct expert solution and identify the single, complete sentence from the 'Incorrect Solution' that contains the first critical logical or mathematical error. You must only output the exact divergent sentence and nothing else.\"\n",
    "        ]\n",
    "        # Add the few-shot examples\n",
    "        for example in self.few_shot_examples:\n",
    "            prompt_parts.append(\"\\n---\\n\")\n",
    "            prompt_parts.append(f\"Question: {example['question']}\")\n",
    "            prompt_parts.append(f\"Correct Solution: {example['correct_solution']}\")\n",
    "            prompt_parts.append(f\"Incorrect Solution: {example['incorrect_solution']}\")\n",
    "            prompt_parts.append(f\"Divergent Sentence: {example['divergent_sentence']}\")\n",
    "        \n",
    "        # Add the final, new problem to be solved\n",
    "        prompt_parts.append(\"\\n---\\n\")\n",
    "        prompt_parts.append(f\"Question: {question}\")\n",
    "        prompt_parts.append(f\"Correct Solution: {correct_solution}\")\n",
    "        prompt_parts.append(f\"Incorrect Solution: {incorrect_solution}\")\n",
    "        prompt_parts.append(f\"Divergent Sentence:\")\n",
    "        \n",
    "        return \"\\n\".join(prompt_parts)\n",
    "\n",
    "    def get_error_segment(self, question: str, correct_solution: str, incorrect_solution: str) -> str:\n",
    "        \"\"\"Calls the Gemini model to get the divergent sentence.\"\"\"\n",
    "        full_prompt = self._build_full_prompt(question, correct_solution, incorrect_solution)\n",
    "        \n",
    "        print(\"Sending request to Gemini API...\")\n",
    "        try:\n",
    "            # Use generate_content for the new Gemini API\n",
    "            response = self.model.generate_content(\n",
    "                full_prompt,\n",
    "                # We configure the model to be deterministic\n",
    "                generation_config=genai.types.GenerationConfig(\n",
    "                    candidate_count=1,\n",
    "                    temperature=0.0,\n",
    "                    top_p=1.0,\n",
    "                ),\n",
    "                safety_settings=self.safety_settings\n",
    "            )\n",
    "            # The response text is in the .text attribute\n",
    "            error_segment = response.text.strip()\n",
    "            print(f\"Gemini CAL Response: '{error_segment}'\")\n",
    "            return error_segment\n",
    "        except Exception as e:\n",
    "            print(f\"CRITICAL: Gemini API call failed: {e}\")\n",
    "            # You can inspect response.prompt_feedback here for blocked prompts\n",
    "            return \"\" # Return empty string on failure"
   ]
  },
  {
   "cell_type": "code",
   "execution_count": null,
   "id": "181a3259",
   "metadata": {},
   "outputs": [
    {
     "name": "stdout",
     "output_type": "stream",
     "text": [
      "\n",
      "--- RUNNING GEMINI TEST CASE ---\n",
      "Sending request to Gemini API...\n"
     ]
    },
    {
     "name": "stdout",
     "output_type": "stream",
     "text": [
      "Gemini CAL Response: 'To find the integral of 2x + 3, we find the derivative.'\n",
      "\n",
      "--- VERIFICATION ---\n",
      "Expected Error: 'To find the integral of 2x + 3, we find the derivative.'\n",
      "\n",
      "✅ SUCCESS: The Gemini CAL correctly identified the divergent sentence!\n"
     ]
    }
   ],
   "source": [
    "# Cell 2: Test the Gemini-powered CALOracle\n",
    "\n",
    "# --- 1. Instantiate the Oracle ---\n",
    "# We use a modern Gemini model. \"gemini-1.5-flash\" is fast and effective.\n",
    "# Note: Ensure your API key has access to this model.\n",
    "try:\n",
    "    genai.configure(api_key=os.environ[\"GEMINI_API_KEY\"])\n",
    "    cal_oracle = CALOracle(\n",
    "        cal_model_name=\"gemini-1.5-flash-latest\", \n",
    "        few_shot_path=\"cal_examples.json\"\n",
    "    )\n",
    "\n",
    "    # --- 2. Define a New Test Case ---\n",
    "    test_question = \"What is the integral of 2x + 3 with respect to x?\"\n",
    "    \n",
    "    test_correct_solution = \"To find the integral of 2x + 3, we integrate term by term. The integral of 2x is x^2. The integral of 3 is 3x. We also add the constant of integration, C. So the integral is x^2 + 3x + C.\"\n",
    "    \n",
    "    test_incorrect_solution = \"To find the integral of 2x + 3, we find the derivative. The derivative of 2x is 2. The derivative of 3 is 0. So the integral is 2.\"\n",
    "    \n",
    "    # --- 3. Run the Test ---\n",
    "    print(\"\\n--- RUNNING GEMINI TEST CASE ---\")\n",
    "    identified_error = cal_oracle.get_error_segment(\n",
    "        test_question,\n",
    "        test_correct_solution,\n",
    "        test_incorrect_solution\n",
    "    )\n",
    "    \n",
    "    # --- 4. Verify the Result ---\n",
    "    expected_error = \"To find the integral of 2x + 3, we find the derivative.\"\n",
    "    print(\"\\n--- VERIFICATION ---\")\n",
    "    print(f\"Expected Error: '{expected_error}'\")\n",
    "    \n",
    "    if identified_error == expected_error:\n",
    "        print(\"\\n✅ SUCCESS: The Gemini CAL correctly identified the divergent sentence!\")\n",
    "    else:\n",
    "        print(f\"\\n❌ FAILED: The Gemini CAL returned an incorrect segment.\")\n",
    "        \n",
    "except KeyError:\n",
    "    print(\"\\n❌ FAILED: GOOGLE_API_KEY environment variable not set.\")\n",
    "    print(\"Please set your API key using: export GOOGLE_API_KEY='your_key_here'\")\n",
    "except Exception as e:\n",
    "    print(f\"\\n❌ FAILED: An unexpected error occurred: {e}\")"
   ]
  },
  {
   "cell_type": "code",
   "execution_count": null,
   "id": "ed6bf7ba",
   "metadata": {},
   "outputs": [],
   "source": []
  }
 ],
 "metadata": {
  "kernelspec": {
   "display_name": ".oat",
   "language": "python",
   "name": "python3"
  },
  "language_info": {
   "codemirror_mode": {
    "name": "ipython",
    "version": 3
   },
   "file_extension": ".py",
   "mimetype": "text/x-python",
   "name": "python",
   "nbconvert_exporter": "python",
   "pygments_lexer": "ipython3",
   "version": "3.10.12"
  }
 },
 "nbformat": 4,
 "nbformat_minor": 5
}
