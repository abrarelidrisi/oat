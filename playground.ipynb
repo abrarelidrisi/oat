{
 "cells": [
  {
   "cell_type": "code",
   "execution_count": 2,
   "metadata": {},
   "outputs": [
    {
     "name": "stdout",
     "output_type": "stream",
     "text": [
      "--- OAT Core Dependencies Check ---\n",
      "PyTorch version: 2.6.0+cu124\n",
      "Transformers version: 4.51.3\n",
      "DeepSpeed version: 0.16.8\n",
      "vLLM version: 0.8.4\n",
      "Launchpad version: Not found (this is expected and okay).\n",
      "\n",
      "✅ SUCCESS: Your environment is correctly set up!\n"
     ]
    }
   ],
   "source": [
    "# check_imports.py\n",
    "try:\n",
    "    import torch\n",
    "    import transformers\n",
    "    import deepspeed\n",
    "    import vllm\n",
    "    import launchpad as lp\n",
    "\n",
    "    print(\"--- OAT Core Dependencies Check ---\")\n",
    "    print(f\"PyTorch version: {torch.__version__}\")\n",
    "    print(f\"Transformers version: {transformers.__version__}\")\n",
    "    print(f\"DeepSpeed version: {deepspeed.__version__}\")\n",
    "    print(f\"vLLM version: {vllm.__version__}\")\n",
    "\n",
    "    try:\n",
    "        # Try to print the version, but don't fail if it's not there\n",
    "        print(f\"Launchpad version: {lp.__version__}\")\n",
    "    except AttributeError:\n",
    "        print(\"Launchpad version: Not found (this is expected and okay).\")\n",
    "\n",
    "    print(f\"\\n✅ SUCCESS: Your environment is correctly set up!\")\n",
    "\n",
    "except ImportError as e:\n",
    "    print(f\"\\n❌ FAILED: A library is missing or could not be loaded.\")\n",
    "    print(f\"Error details: {e}\")\n",
    "    print(\"\\nThere may be an issue with the installation or system dependencies.\")"
   ]
  },
  {
   "cell_type": "code",
   "execution_count": null,
   "id": "49959e8e",
   "metadata": {},
   "outputs": [],
   "source": []
  }
 ],
 "metadata": {
  "kernelspec": {
   "display_name": ".venv",
   "language": "python",
   "name": "python3"
  },
  "language_info": {
   "codemirror_mode": {
    "name": "ipython",
    "version": 3
   },
   "file_extension": ".py",
   "mimetype": "text/x-python",
   "name": "python",
   "nbconvert_exporter": "python",
   "pygments_lexer": "ipython3",
   "version": "3.10.12"
  }
 },
 "nbformat": 4,
 "nbformat_minor": 5
}
